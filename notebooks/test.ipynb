{
 "cells": [
  {
   "cell_type": "code",
   "execution_count": 1,
   "metadata": {},
   "outputs": [],
   "source": [
    "import pandas as pd\n",
    "import numpy as np\n",
    "import json\n",
    "import xgboost as xgb\n",
    "from xgboost.sklearn import XGBClassifier\n",
    "from sklearn import model_selection, metrics\n",
    "from sklearn.metrics import roc_auc_score\n",
    "from sklearn.model_selection  import GridSearchCV\n",
    "import time\n",
    "\n",
    "#load data\n",
    "config = json.load(open('settings.json'))\n",
    "train = pd.read_csv(config['train_modified'])\n",
    "test = pd.read_csv(config['test_modified'])\n",
    "num_classes = 8\n",
    "\n",
    "from sklearn.model_selection import train_test_split\n",
    "train_part, test_part = train_test_split(train, test_size=0.2)\n",
    "\n",
    "target='Response'\n",
    "IDcol = 'Id'\n",
    "\n",
    "predictors = [x for x in train_part.columns if x not in [target, IDcol]]\n",
    "\n",
    "X=train_part[predictors]\n",
    "y=train_part[target]"
   ]
  },
  {
   "cell_type": "code",
   "execution_count": 2,
   "metadata": {},
   "outputs": [
    {
     "name": "stderr",
     "output_type": "stream",
     "text": [
      "C:\\Users\\dli\\AppData\\Local\\Continuum\\anaconda3\\lib\\site-packages\\ipykernel_launcher.py:2: SettingWithCopyWarning: \n",
      "A value is trying to be set on a copy of a slice from a DataFrame.\n",
      "Try using .loc[row_indexer,col_indexer] = value instead\n",
      "\n",
      "See the caveats in the documentation: http://pandas.pydata.org/pandas-docs/stable/indexing.html#indexing-view-versus-copy\n",
      "  \n",
      "C:\\Users\\dli\\AppData\\Local\\Continuum\\anaconda3\\lib\\site-packages\\ipykernel_launcher.py:4: SettingWithCopyWarning: \n",
      "A value is trying to be set on a copy of a slice from a DataFrame.\n",
      "Try using .loc[row_indexer,col_indexer] = value instead\n",
      "\n",
      "See the caveats in the documentation: http://pandas.pydata.org/pandas-docs/stable/indexing.html#indexing-view-versus-copy\n",
      "  after removing the cwd from sys.path.\n"
     ]
    }
   ],
   "source": [
    "X1=train_part\n",
    "X1['Response'] -=1 #reduce to fit [0,classes)\n",
    "y1=test_part\n",
    "y1['Response'] -= 1"
   ]
  },
  {
   "cell_type": "code",
   "execution_count": 3,
   "metadata": {},
   "outputs": [
    {
     "data": {
      "text/plain": [
       "7    3938\n",
       "5    2246\n",
       "6    1568\n",
       "1    1283\n",
       "0    1229\n",
       "4    1109\n",
       "3     289\n",
       "2     215\n",
       "Name: Response, dtype: int64"
      ]
     },
     "execution_count": 3,
     "metadata": {},
     "output_type": "execute_result"
    }
   ],
   "source": [
    "y1[\"Response\"].value_counts()"
   ]
  },
  {
   "cell_type": "code",
   "execution_count": 4,
   "metadata": {},
   "outputs": [],
   "source": [
    "param = {'max_depth' : 4, \n",
    "         'eta' : 0.01, \n",
    "         'silent' : 1, \n",
    "         'min_child_weight' : 10, \n",
    "         'subsample' : 0.5,\n",
    "         'early_stopping_rounds' : 100,\n",
    "         'objective' : 'multi:softprob',\n",
    "         'num_class' : 8,\n",
    "         'colsample_bytree' : 0.3,\n",
    "         'seed' : 0}\n",
    "num_rounds=7000\n",
    "dtrain=xgb.DMatrix(X1[predictors],X1[target],missing=float('nan'))"
   ]
  },
  {
   "cell_type": "code",
   "execution_count": 5,
   "metadata": {},
   "outputs": [
    {
     "name": "stdout",
     "output_type": "stream",
     "text": [
      "Wall time: 50min 59s\n"
     ]
    }
   ],
   "source": [
    "%time bst = xgb.train(param, dtrain, num_rounds)"
   ]
  },
  {
   "cell_type": "code",
   "execution_count": 7,
   "metadata": {},
   "outputs": [
    {
     "name": "stdout",
     "output_type": "stream",
     "text": [
      "Wall time: 16 s\n"
     ]
    }
   ],
   "source": [
    "dtest=xgb.DMatrix(y1[predictors],y1[target],missing=float('nan'))\n",
    "%time prob = bst.predict(dtest)"
   ]
  },
  {
   "cell_type": "code",
   "execution_count": 35,
   "metadata": {},
   "outputs": [
    {
     "name": "stdout",
     "output_type": "stream",
     "text": [
      "Accuracy:0.5893\n"
     ]
    }
   ],
   "source": [
    "y=np.argmax(prob, axis=1)\n",
    "print ('Accuracy:%.4g'%metrics.accuracy_score(y1[target],y))"
   ]
  },
  {
   "cell_type": "code",
   "execution_count": 13,
   "metadata": {},
   "outputs": [
    {
     "data": {
      "text/plain": [
       "array([[1.1095951e-02, 6.0166968e-03, 1.2473860e-04, ..., 4.4593506e-02,\n",
       "        1.8648732e-01, 7.4519145e-01],\n",
       "       [1.6468041e-02, 3.2978080e-02, 2.1740847e-04, ..., 6.7996308e-02,\n",
       "        8.0372199e-02, 7.7966231e-01],\n",
       "       [1.5194499e-02, 1.6266905e-02, 8.1960665e-04, ..., 2.3765322e-02,\n",
       "        2.9402457e-02, 9.0318614e-01],\n",
       "       ...,\n",
       "       [2.4412753e-01, 4.6766394e-01, 8.0492767e-04, ..., 1.4751874e-01,\n",
       "        1.5099860e-04, 8.5396176e-05],\n",
       "       [2.0459896e-01, 2.1885158e-01, 6.0502584e-03, ..., 5.3171140e-01,\n",
       "        4.4854917e-03, 1.2535411e-02],\n",
       "       [1.1551266e-02, 1.0190281e-02, 3.2489284e-04, ..., 5.4286085e-02,\n",
       "        1.7385477e-02, 8.9858842e-01]], dtype=float32)"
      ]
     },
     "execution_count": 13,
     "metadata": {},
     "output_type": "execute_result"
    }
   ],
   "source": [
    "prob"
   ]
  },
  {
   "cell_type": "code",
   "execution_count": 40,
   "metadata": {
    "scrolled": true
   },
   "outputs": [
    {
     "name": "stdout",
     "output_type": "stream",
     "text": [
      "Wall time: 28.7 s\n"
     ]
    }
   ],
   "source": [
    "y0 = test\n",
    "y0[target] -= 1\n",
    "dtest=xgb.DMatrix(y0[predictors],y0[target],missing=float('nan'))\n",
    "%time prob2 = bst.predict(dtest)\n",
    "y=np.argmax(prob2, axis=1)\n",
    "y += 1\n",
    "result = pd.DataFrame({\"Id\": y0['Id'].values, \"Response\": y})\n",
    "result.to_csv('../src/submissions/submission_xg2.csv', index=False)"
   ]
  },
  {
   "cell_type": "code",
   "execution_count": null,
   "metadata": {},
   "outputs": [],
   "source": []
  }
 ],
 "metadata": {
  "kernelspec": {
   "display_name": "Python 3",
   "language": "python",
   "name": "python3"
  },
  "language_info": {
   "codemirror_mode": {
    "name": "ipython",
    "version": 3
   },
   "file_extension": ".py",
   "mimetype": "text/x-python",
   "name": "python",
   "nbconvert_exporter": "python",
   "pygments_lexer": "ipython3",
   "version": "3.6.7"
  }
 },
 "nbformat": 4,
 "nbformat_minor": 2
}
