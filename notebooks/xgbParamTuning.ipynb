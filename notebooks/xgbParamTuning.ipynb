{
 "cells": [
  {
   "cell_type": "code",
   "execution_count": 1,
   "metadata": {},
   "outputs": [],
   "source": [
    "#https://github.com/aarshayj/Analytics_Vidhya/blob/master/Articles/Parameter_Tuning_XGBoost_with_Example/XGBoost%20models.ipynb\n",
    "#https://xgboost.readthedocs.io/en/latest/parameter.html#general-parameters\n",
    "#https://www.kaggle.com/naokishibuya/xgboot-with-gridsearchcv\n",
    "\n",
    "import pandas as pd\n",
    "import numpy as np\n",
    "import json\n",
    "import xgboost as xgb\n",
    "from xgboost.sklearn import XGBClassifier\n",
    "from sklearn import model_selection, metrics\n",
    "from sklearn.metrics import roc_auc_score\n",
    "from sklearn.model_selection  import GridSearchCV\n",
    "\n",
    "import matplotlib.pylab as plt\n",
    "%matplotlib inline\n",
    "from matplotlib.pylab import rcParams\n",
    "rcParams['figure.figsize'] = 12, 4"
   ]
  },
  {
   "cell_type": "code",
   "execution_count": 2,
   "metadata": {},
   "outputs": [],
   "source": [
    "#load data\n",
    "config = json.load(open('settings.json'))\n",
    "train = pd.read_csv(config['train_modified'])\n",
    "test = pd.read_csv(config['test_modified'])"
   ]
  },
  {
   "cell_type": "code",
   "execution_count": 3,
   "metadata": {},
   "outputs": [
    {
     "data": {
      "text/plain": [
       "((59381, 133), (19765, 133))"
      ]
     },
     "execution_count": 3,
     "metadata": {},
     "output_type": "execute_result"
    }
   ],
   "source": [
    "train.shape,test.shape"
   ]
  },
  {
   "cell_type": "code",
   "execution_count": 4,
   "metadata": {},
   "outputs": [],
   "source": [
    "target='Response'\n",
    "IDcol = 'Id'"
   ]
  },
  {
   "cell_type": "code",
   "execution_count": 5,
   "metadata": {},
   "outputs": [
    {
     "data": {
      "text/plain": [
       "8    15589\n",
       "6     8988\n",
       "7     6470\n",
       "2     5236\n",
       "1     4968\n",
       "5     4320\n",
       "4     1132\n",
       "3      801\n",
       "Name: Response, dtype: int64"
      ]
     },
     "execution_count": 5,
     "metadata": {},
     "output_type": "execute_result"
    }
   ],
   "source": [
    "#https://github.com/aarshayj/Analytics_Vidhya/issues/3: split train data into cv\n",
    "#https://stackoverflow.com/questions/24147278/how-do-i-create-test-and-train-samples-from-one-dataframe-with-pandas\n",
    "from sklearn.model_selection import train_test_split\n",
    "train_part, test_part = train_test_split(train, test_size=0.2)\n",
    "#test_file2 = config['test_modified'].replace('.csv','_2p.csv')\n",
    "#train_part.to_csv(test_file2)\n",
    "#train_part = pd.read_csv(test_file2)\n",
    "#test_part['Response']-=1\n",
    "train_part['Response'].value_counts()"
   ]
  },
  {
   "cell_type": "code",
   "execution_count": 6,
   "metadata": {},
   "outputs": [
    {
     "name": "stdout",
     "output_type": "stream",
     "text": [
      "<class 'pandas.core.frame.DataFrame'>\n",
      "Int64Index: 47504 entries, 12979 to 47642\n",
      "Columns: 133 entries, BMI to countna\n",
      "dtypes: float64(19), int64(114)\n",
      "memory usage: 48.6 MB\n"
     ]
    }
   ],
   "source": [
    "train_part.info()"
   ]
  },
  {
   "cell_type": "markdown",
   "metadata": {},
   "source": [
    "step 0- Define a function for modeling and cross-validation\n",
    "This function will do the following:\n",
    "\n",
    "fit the model\n",
    "determine training accuracy\n",
    "determine training AUC\n",
    "  xx  determine testing AUC\n",
    "update n_estimators with cv function of xgboost package\n",
    "plot Feature Importance"
   ]
  },
  {
   "cell_type": "code",
   "execution_count": 34,
   "metadata": {},
   "outputs": [],
   "source": [
    "def modelfit0(alg,dtrain,predictors,useTrainCV=True,cv_folds=5,early_stopping_rounds=100):\n",
    "    if useTrainCV:\n",
    "        xgb_param = alg.get_xgb_params()\n",
    "        xgbtrain = xgb.DMatrix(dtrain[predictors],label=dtrain[target])\n",
    "        cvresult = xgb.cv( params=xgb_param,dtrain=xgbtrain,num_boost_round = alg.get_params()['n_estimators'],\n",
    "                          nfold = cv_folds,metrics='mlogloss',early_stopping_rounds=early_stopping_rounds)\n",
    "        alg.set_params(n_estimators=cvresult.shape[0])\n",
    "    alg.fit(dtrain[predictors],dtrain['Response'],eval_metric='mlogloss')#'auc'\n",
    "    dtrain_predictions = alg.predict(dtrain[predictors])\n",
    "    dtrain_predictprob = alg.predict_proba(dtrain[predictors])[:,1]\n",
    "    print ('\\nModel Report: n_estimators--' + str(alg.n_estimators))\n",
    "    print ('Accuracy:%.4g'%metrics.accuracy_score(dtrain['Response'],dtrain_predictions))\n",
    "    #print ('AUC(train):%f'%metrics.roc_auc_score(dtrain['Response'],dtrain_predictprob))\n",
    "    \n",
    "    feat_imp = pd.Series(alg.get_booster().get_fscore()).sort_values(ascending=False)\n",
    "    feat_imp.plot(kind='bar',title='feature importances')\n",
    "    plt.ylabel('fm_score')"
   ]
  },
  {
   "cell_type": "code",
   "execution_count": 8,
   "metadata": {},
   "outputs": [],
   "source": [
    "def modelfit(xgb1, param_grid, X, y, cv, scoring):\n",
    "    param_grid = param_grid\n",
    "    model = GridSearchCV(estimator=xgb1, param_grid=param_grid, scoring=scoring, cv=cv, \n",
    "                         verbose=10, n_jobs=-1, iid=True, refit=True)\n",
    "\n",
    "    model.fit(X, y)\n",
    "    dtrain_predictions = model.predict(X)\n",
    "    #dtrain_predictprob = model.predict_proba(X)[:,1]\n",
    "    print ('\\nModel Report:')\n",
    "    print ('Accuracy:%.4g'%metrics.accuracy_score(y,dtrain_predictions))\n",
    "    #https://github.com/scikit-learn/scikit-learn/issues/9144\n",
    "    #print ('Log Loss:%.4g'%metrics.log_loss(y,dtrain_predictprob))\n",
    "    \n",
    "    #https://markhneedham.com/blog/2017/12/10/scikit-learn-using-gridsearch-tune-hyper-parameters-votingclassifier/\n",
    "    cv_results = model.cv_results_\n",
    "\n",
    "    for mean_score, params in zip(cv_results[\"mean_test_score\"], cv_results[\"params\"]):\n",
    "        print(params, mean_score)\n",
    "\n",
    "    print(\"Best score: %0.8f\" % model.best_score_)\n",
    "    print(\"Best parameters set:\")\n",
    "    best_parameters = model.best_estimator_.get_params()\n",
    "    for param_name in sorted(param_grid.keys()):\n",
    "        print(\"\\t%s: %r\" % (param_name, best_parameters[param_name]))"
   ]
  },
  {
   "cell_type": "code",
   "execution_count": 9,
   "metadata": {},
   "outputs": [],
   "source": [
    "predictors = [x for x in train_part.columns if x not in [target, IDcol]]\n",
    "\n",
    "X=train_part[predictors]\n",
    "y=train_part[target]\n",
    "#X=test_part[predictors]\n",
    "#y=test_part[target]"
   ]
  },
  {
   "cell_type": "markdown",
   "metadata": {},
   "source": [
    "Step 1: Fix learning rate and number of estimators for tuning tree-based parameters In order to decide on boosting parameters, we need to set some initial values of other parameters. Lets take the following values:\n",
    "\n",
    "max_depth = 5 : This should be between 3-10. I’ve started with 5 but you can choose a different number as well. 4-6 can be good starting points. min_child_weight = 1 : A smaller value is chosen because it is a highly imbalanced class problem and leaf nodes can have smaller size groups. gamma = 0 : A smaller value like 0.1-0.2 can also be chosen for starting. This will anyways be tuned later. subsample, colsample_bytree = 0.8 : This is a commonly used used start value. Typical values range between 0.5-0.9. scale_pos_weight = 1: Because of high class imbalance. default learning rate of 0.1"
   ]
  },
  {
   "cell_type": "code",
   "execution_count": null,
   "metadata": {},
   "outputs": [],
   "source": [
    "#Step 1- Find the number of estimators for a high learning rate\n",
    "#http://brettromero.com/data-science-kaggle-walkthrough-creating-model/\n",
    "# Grid Search - Used to find best combination of parameters\n",
    "\n",
    "xgbc = xgb.XGBClassifier(objective='multi:softprob', num_class=8, \n",
    "                         learning_rate=0.1, #n_estimators = 250,\n",
    "                         max_depth=4,min_child_weight=1,\n",
    "                         subsample=0.8, colsample_bytree=0.8, \n",
    "                         early_stopping_rounds=100, seed=0)\n",
    "param_grid = {'n_estimators':range(200,600,100)}\n",
    "%time modelfit(xgbc, param_grid, X, y, cv=5, scoring='neg_log_loss')"
   ]
  },
  {
   "cell_type": "code",
   "execution_count": null,
   "metadata": {},
   "outputs": [],
   "source": [
    "param_grid['n_estimators'],xgbc.n_estimators"
   ]
  },
  {
   "cell_type": "code",
   "execution_count": 10,
   "metadata": {},
   "outputs": [
    {
     "name": "stdout",
     "output_type": "stream",
     "text": [
      "Fitting 4 folds for each of 9 candidates, totalling 36 fits\n"
     ]
    },
    {
     "name": "stderr",
     "output_type": "stream",
     "text": [
      "[Parallel(n_jobs=-1)]: Using backend LokyBackend with 8 concurrent workers.\n",
      "[Parallel(n_jobs=-1)]: Done   2 tasks      | elapsed: 26.4min\n",
      "[Parallel(n_jobs=-1)]: Done   9 tasks      | elapsed: 51.3min\n",
      "[Parallel(n_jobs=-1)]: Done  16 tasks      | elapsed: 56.4min\n",
      "[Parallel(n_jobs=-1)]: Done  25 out of  36 | elapsed: 120.8min remaining: 53.2min\n",
      "[Parallel(n_jobs=-1)]: Done  29 out of  36 | elapsed: 120.8min remaining: 29.2min\n",
      "[Parallel(n_jobs=-1)]: Done  33 out of  36 | elapsed: 140.4min remaining: 12.8min\n",
      "[Parallel(n_jobs=-1)]: Done  36 out of  36 | elapsed: 140.6min finished\n"
     ]
    },
    {
     "name": "stdout",
     "output_type": "stream",
     "text": [
      "\n",
      "Model Report:\n",
      "Accuracy:0.6695\n",
      "{'max_depth': 4, 'min_child_weight': 2} -1.1424457130523689\n",
      "{'max_depth': 4, 'min_child_weight': 6} -1.1430928574011352\n",
      "{'max_depth': 4, 'min_child_weight': 10} -1.1433294731241186\n",
      "{'max_depth': 5, 'min_child_weight': 2} -1.1439173615714382\n",
      "{'max_depth': 5, 'min_child_weight': 6} -1.1438119610112882\n",
      "{'max_depth': 5, 'min_child_weight': 10} -1.1442595450723205\n",
      "{'max_depth': 6, 'min_child_weight': 2} -1.1518575720709563\n",
      "{'max_depth': 6, 'min_child_weight': 6} -1.1490025560096282\n",
      "{'max_depth': 6, 'min_child_weight': 10} -1.1489676813144156\n",
      "Best score: -1.14244571\n",
      "Best parameters set:\n",
      "\tmax_depth: 4\n",
      "\tmin_child_weight: 2\n",
      "Wall time: 2h 32min 54s\n"
     ]
    }
   ],
   "source": [
    "#Step 2: Tune max_depth and min_child_weight\n",
    "xgbc = xgb.XGBClassifier(objective='multi:softprob', num_class=8, \n",
    "                         learning_rate=0.1, n_estimators = 400,\n",
    "                         max_depth=4,min_child_weight=1,\n",
    "                         subsample=0.8, colsample_bytree=0.8, \n",
    "                         early_stopping_rounds=100, seed=0)\n",
    "param_grid = {'max_depth':[4,5,6], 'min_child_weight':[2,6,10]}\n",
    "%time modelfit(xgbc, param_grid, X, y, cv=4, scoring='neg_log_loss')"
   ]
  },
  {
   "cell_type": "code",
   "execution_count": 11,
   "metadata": {},
   "outputs": [
    {
     "name": "stdout",
     "output_type": "stream",
     "text": [
      "Fitting 4 folds for each of 5 candidates, totalling 20 fits\n"
     ]
    },
    {
     "name": "stderr",
     "output_type": "stream",
     "text": [
      "[Parallel(n_jobs=-1)]: Using backend LokyBackend with 8 concurrent workers.\n",
      "[Parallel(n_jobs=-1)]: Done   2 tasks      | elapsed: 27.7min\n",
      "[Parallel(n_jobs=-1)]: Done   8 out of  20 | elapsed: 28.0min remaining: 42.0min\n",
      "[Parallel(n_jobs=-1)]: Done  11 out of  20 | elapsed: 54.3min remaining: 44.5min\n",
      "[Parallel(n_jobs=-1)]: Done  14 out of  20 | elapsed: 55.2min remaining: 23.7min\n",
      "[Parallel(n_jobs=-1)]: Done  17 out of  20 | elapsed: 70.9min remaining: 12.5min\n",
      "[Parallel(n_jobs=-1)]: Done  20 out of  20 | elapsed: 71.0min remaining:    0.0s\n",
      "[Parallel(n_jobs=-1)]: Done  20 out of  20 | elapsed: 71.0min finished\n"
     ]
    },
    {
     "name": "stdout",
     "output_type": "stream",
     "text": [
      "\n",
      "Model Report:\n",
      "Accuracy:0.6695\n",
      "{'gamma': 0.0} -1.1424457130523689\n",
      "{'gamma': 0.1} -1.1433985750520868\n",
      "{'gamma': 0.2} -1.1425921479215946\n",
      "{'gamma': 0.3} -1.1430009239071004\n",
      "{'gamma': 0.4} -1.14266749321729\n",
      "Best score: -1.14244571\n",
      "Best parameters set:\n",
      "\tgamma: 0.0\n",
      "Wall time: 1h 22min 34s\n"
     ]
    }
   ],
   "source": [
    "#Step 3: Tune gamma\n",
    "xgbc = xgb.XGBClassifier(objective='multi:softprob', num_class=8, \n",
    "                         learning_rate=0.1, n_estimators = 400,\n",
    "                         max_depth=4,min_child_weight=2,\n",
    "                         subsample=0.8, colsample_bytree=0.8, \n",
    "                         early_stopping_rounds=100, seed=0)\n",
    "param_grid = {'gamma':[i/10.0 for i in range(0,5)]}\n",
    "%time modelfit(xgbc, param_grid, X, y, cv=4, scoring='neg_log_loss')"
   ]
  },
  {
   "cell_type": "code",
   "execution_count": 12,
   "metadata": {},
   "outputs": [
    {
     "name": "stdout",
     "output_type": "stream",
     "text": [
      "Fitting 4 folds for each of 49 candidates, totalling 196 fits\n"
     ]
    },
    {
     "name": "stderr",
     "output_type": "stream",
     "text": [
      "[Parallel(n_jobs=-1)]: Using backend LokyBackend with 8 concurrent workers.\n",
      "[Parallel(n_jobs=-1)]: Done   2 tasks      | elapsed: 15.0min\n",
      "[Parallel(n_jobs=-1)]: Done   9 tasks      | elapsed: 32.3min\n",
      "[Parallel(n_jobs=-1)]: Done  16 tasks      | elapsed: 38.0min\n",
      "[Parallel(n_jobs=-1)]: Done  25 tasks      | elapsed: 65.7min\n",
      "[Parallel(n_jobs=-1)]: Done  34 tasks      | elapsed: 83.7min\n",
      "[Parallel(n_jobs=-1)]: Done  45 tasks      | elapsed: 118.7min\n",
      "[Parallel(n_jobs=-1)]: Done  56 tasks      | elapsed: 138.8min\n",
      "[Parallel(n_jobs=-1)]: Done  69 tasks      | elapsed: 178.4min\n",
      "[Parallel(n_jobs=-1)]: Done  82 tasks      | elapsed: 203.5min\n",
      "[Parallel(n_jobs=-1)]: Done  97 tasks      | elapsed: 250.4min\n",
      "[Parallel(n_jobs=-1)]: Done 112 tasks      | elapsed: 286.2min\n",
      "[Parallel(n_jobs=-1)]: Done 129 tasks      | elapsed: 350.2min\n",
      "[Parallel(n_jobs=-1)]: Done 146 tasks      | elapsed: 399.9min\n",
      "[Parallel(n_jobs=-1)]: Done 165 tasks      | elapsed: 458.2min\n",
      "[Parallel(n_jobs=-1)]: Done 196 out of 196 | elapsed: 559.2min finished\n"
     ]
    },
    {
     "name": "stdout",
     "output_type": "stream",
     "text": [
      "\n",
      "Model Report:\n",
      "Accuracy:0.6619\n",
      "{'colsample_bytree': 0.3, 'subsample': 0.3} -1.1571051467523894\n",
      "{'colsample_bytree': 0.3, 'subsample': 0.4} -1.151994783845901\n",
      "{'colsample_bytree': 0.3, 'subsample': 0.5} -1.148371364941956\n",
      "{'colsample_bytree': 0.3, 'subsample': 0.6} -1.1457292980743612\n",
      "{'colsample_bytree': 0.3, 'subsample': 0.7} -1.1447714480058617\n",
      "{'colsample_bytree': 0.3, 'subsample': 0.8} -1.1430511071305764\n",
      "{'colsample_bytree': 0.3, 'subsample': 0.9} -1.1433830274387478\n",
      "{'colsample_bytree': 0.4, 'subsample': 0.3} -1.1568760153857969\n",
      "{'colsample_bytree': 0.4, 'subsample': 0.4} -1.1500129153262764\n",
      "{'colsample_bytree': 0.4, 'subsample': 0.5} -1.1474227385472948\n",
      "{'colsample_bytree': 0.4, 'subsample': 0.6} -1.1453853566485777\n",
      "{'colsample_bytree': 0.4, 'subsample': 0.7} -1.143715891958854\n",
      "{'colsample_bytree': 0.4, 'subsample': 0.8} -1.1431480054455\n",
      "{'colsample_bytree': 0.4, 'subsample': 0.9} -1.1425168569994613\n",
      "{'colsample_bytree': 0.5, 'subsample': 0.3} -1.1551739114078117\n",
      "{'colsample_bytree': 0.5, 'subsample': 0.4} -1.1500086175405184\n",
      "{'colsample_bytree': 0.5, 'subsample': 0.5} -1.1463054399357864\n",
      "{'colsample_bytree': 0.5, 'subsample': 0.6} -1.1449917577794733\n",
      "{'colsample_bytree': 0.5, 'subsample': 0.7} -1.143490273139441\n",
      "{'colsample_bytree': 0.5, 'subsample': 0.8} -1.1424156762672097\n",
      "{'colsample_bytree': 0.5, 'subsample': 0.9} -1.1420452890361226\n",
      "{'colsample_bytree': 0.6, 'subsample': 0.3} -1.1554757426207811\n",
      "{'colsample_bytree': 0.6, 'subsample': 0.4} -1.1498117858622647\n",
      "{'colsample_bytree': 0.6, 'subsample': 0.5} -1.1466806825284421\n",
      "{'colsample_bytree': 0.6, 'subsample': 0.6} -1.1451260725125427\n",
      "{'colsample_bytree': 0.6, 'subsample': 0.7} -1.143465186430478\n",
      "{'colsample_bytree': 0.6, 'subsample': 0.8} -1.142696395968098\n",
      "{'colsample_bytree': 0.6, 'subsample': 0.9} -1.1424700830641268\n",
      "{'colsample_bytree': 0.7, 'subsample': 0.3} -1.1560253351152596\n",
      "{'colsample_bytree': 0.7, 'subsample': 0.4} -1.1496648982813782\n",
      "{'colsample_bytree': 0.7, 'subsample': 0.5} -1.1468981438587427\n",
      "{'colsample_bytree': 0.7, 'subsample': 0.6} -1.1445433498112525\n",
      "{'colsample_bytree': 0.7, 'subsample': 0.7} -1.143784417754413\n",
      "{'colsample_bytree': 0.7, 'subsample': 0.8} -1.1427852595889003\n",
      "{'colsample_bytree': 0.7, 'subsample': 0.9} -1.142339633916895\n",
      "{'colsample_bytree': 0.8, 'subsample': 0.3} -1.1557328722772562\n",
      "{'colsample_bytree': 0.8, 'subsample': 0.4} -1.1496973644880133\n",
      "{'colsample_bytree': 0.8, 'subsample': 0.5} -1.14635316107033\n",
      "{'colsample_bytree': 0.8, 'subsample': 0.6} -1.144175375197703\n",
      "{'colsample_bytree': 0.8, 'subsample': 0.7} -1.1436592740981395\n",
      "{'colsample_bytree': 0.8, 'subsample': 0.8} -1.1424457130523689\n",
      "{'colsample_bytree': 0.8, 'subsample': 0.9} -1.142767838277093\n",
      "{'colsample_bytree': 0.9, 'subsample': 0.3} -1.1567490544089682\n",
      "{'colsample_bytree': 0.9, 'subsample': 0.4} -1.1505308570504567\n",
      "{'colsample_bytree': 0.9, 'subsample': 0.5} -1.146929564378071\n",
      "{'colsample_bytree': 0.9, 'subsample': 0.6} -1.1445506963876793\n",
      "{'colsample_bytree': 0.9, 'subsample': 0.7} -1.1430660150023746\n",
      "{'colsample_bytree': 0.9, 'subsample': 0.8} -1.1426671005372542\n",
      "{'colsample_bytree': 0.9, 'subsample': 0.9} -1.1427160819419406\n",
      "Best score: -1.14204529\n",
      "Best parameters set:\n",
      "\tcolsample_bytree: 0.5\n",
      "\tsubsample: 0.9\n",
      "Wall time: 9h 28min 13s\n"
     ]
    }
   ],
   "source": [
    "#Step 4: Tune subsample and colsample_bytree\n",
    "xgbc = xgb.XGBClassifier(objective='multi:softprob', num_class=8, \n",
    "                         learning_rate=0.1, n_estimators = 400,\n",
    "                         max_depth=4,min_child_weight=2,gamma=0,\n",
    "                         #subsample=0.8, colsample_bytree=0.8, \n",
    "                         early_stopping_rounds=100, seed=0)\n",
    "param_grid = {'subsample':[i/10.0 for i in range(3,10)],\n",
    "              'colsample_bytree':[i/10.0 for i in range(3,10)]}\n",
    "%time modelfit(xgbc, param_grid, X, y, cv=4, scoring='neg_log_loss')"
   ]
  },
  {
   "cell_type": "code",
   "execution_count": 14,
   "metadata": {},
   "outputs": [
    {
     "name": "stdout",
     "output_type": "stream",
     "text": [
      "Fitting 4 folds for each of 5 candidates, totalling 20 fits\n"
     ]
    },
    {
     "name": "stderr",
     "output_type": "stream",
     "text": [
      "[Parallel(n_jobs=-1)]: Using backend LokyBackend with 8 concurrent workers.\n",
      "[Parallel(n_jobs=-1)]: Done   2 tasks      | elapsed: 20.0min\n",
      "[Parallel(n_jobs=-1)]: Done   8 out of  20 | elapsed: 20.4min remaining: 30.6min\n",
      "[Parallel(n_jobs=-1)]: Done  11 out of  20 | elapsed: 40.0min remaining: 32.7min\n",
      "[Parallel(n_jobs=-1)]: Done  14 out of  20 | elapsed: 40.6min remaining: 17.4min\n",
      "[Parallel(n_jobs=-1)]: Done  17 out of  20 | elapsed: 50.0min remaining:  8.8min\n",
      "[Parallel(n_jobs=-1)]: Done  20 out of  20 | elapsed: 50.1min remaining:    0.0s\n",
      "[Parallel(n_jobs=-1)]: Done  20 out of  20 | elapsed: 50.1min finished\n"
     ]
    },
    {
     "name": "stdout",
     "output_type": "stream",
     "text": [
      "\n",
      "Model Report:\n",
      "Accuracy:0.6591\n",
      "{'reg_alpha': 1e-05} -1.1422437874561042\n",
      "{'reg_alpha': 0.01} -1.1417594025585822\n",
      "{'reg_alpha': 0.1} -1.1413859176057493\n",
      "{'reg_alpha': 1} -1.1404687339349726\n",
      "{'reg_alpha': 100} -1.2436682417415994\n",
      "Best score: -1.14046873\n",
      "Best parameters set:\n",
      "\treg_alpha: 1\n",
      "Wall time: 58min 58s\n"
     ]
    }
   ],
   "source": [
    "#Step 5: Tuning Regularization Parameters\n",
    "xgbc = xgb.XGBClassifier(objective='multi:softprob', num_class=8, \n",
    "                         learning_rate=0.1, n_estimators = 400,\n",
    "                         max_depth=4,min_child_weight=2,gamma=0,\n",
    "                         subsample=0.9, colsample_bytree=0.5, \n",
    "                         early_stopping_rounds=100, seed=0)\n",
    "param_grid = {'reg_alpha':[1e-5, 1e-2, 0.1, 1, 100]}\n",
    "%time modelfit(xgbc, param_grid, X, y, cv=4, scoring='neg_log_loss')"
   ]
  },
  {
   "cell_type": "code",
   "execution_count": 15,
   "metadata": {},
   "outputs": [
    {
     "name": "stdout",
     "output_type": "stream",
     "text": [
      "Fitting 4 folds for each of 4 candidates, totalling 16 fits\n"
     ]
    },
    {
     "name": "stderr",
     "output_type": "stream",
     "text": [
      "[Parallel(n_jobs=-1)]: Using backend LokyBackend with 8 concurrent workers.\n",
      "[Parallel(n_jobs=-1)]: Done   3 out of  16 | elapsed: 20.6min remaining: 89.2min\n",
      "[Parallel(n_jobs=-1)]: Done   5 out of  16 | elapsed: 20.7min remaining: 45.6min\n",
      "[Parallel(n_jobs=-1)]: Done   7 out of  16 | elapsed: 20.7min remaining: 26.6min\n",
      "[Parallel(n_jobs=-1)]: Done   9 out of  16 | elapsed: 43.0min remaining: 33.4min\n",
      "[Parallel(n_jobs=-1)]: Done  11 out of  16 | elapsed: 43.0min remaining: 19.5min\n",
      "[Parallel(n_jobs=-1)]: Done  13 out of  16 | elapsed: 43.0min remaining:  9.9min\n",
      "[Parallel(n_jobs=-1)]: Done  16 out of  16 | elapsed: 43.0min finished\n"
     ]
    },
    {
     "name": "stdout",
     "output_type": "stream",
     "text": [
      "\n",
      "Model Report:\n",
      "Accuracy:0.6591\n",
      "{'reg_alpha': 0} -1.1420452890361226\n",
      "{'reg_alpha': 0.5} -1.1406966782438772\n",
      "{'reg_alpha': 1} -1.1404687339349726\n",
      "{'reg_alpha': 5} -1.1432931064172833\n",
      "Best score: -1.14046873\n",
      "Best parameters set:\n",
      "\treg_alpha: 1\n",
      "Wall time: 52min 29s\n"
     ]
    }
   ],
   "source": [
    "xgbc = xgb.XGBClassifier(objective='multi:softprob', num_class=8, \n",
    "                         learning_rate=0.1, n_estimators = 400,\n",
    "                         max_depth=4,min_child_weight=2,gamma=0,\n",
    "                         subsample=0.9, colsample_bytree=0.5, \n",
    "                         early_stopping_rounds=100, seed=0)\n",
    "param_grid = {'reg_alpha':[0,0.5,1,5]}\n",
    "%time modelfit(xgbc, param_grid, X, y, cv=4, scoring='neg_log_loss')"
   ]
  },
  {
   "cell_type": "code",
   "execution_count": 16,
   "metadata": {},
   "outputs": [
    {
     "name": "stdout",
     "output_type": "stream",
     "text": [
      "Fitting 4 folds for each of 1 candidates, totalling 4 fits\n"
     ]
    },
    {
     "name": "stderr",
     "output_type": "stream",
     "text": [
      "[Parallel(n_jobs=-1)]: Using backend LokyBackend with 8 concurrent workers.\n",
      "[Parallel(n_jobs=-1)]: Done   1 tasks      | elapsed: 11.9min\n",
      "[Parallel(n_jobs=-1)]: Done   2 out of   4 | elapsed: 11.9min remaining: 11.9min\n",
      "[Parallel(n_jobs=-1)]: Done   4 out of   4 | elapsed: 12.0min remaining:    0.0s\n",
      "[Parallel(n_jobs=-1)]: Done   4 out of   4 | elapsed: 12.0min finished\n"
     ]
    },
    {
     "name": "stdout",
     "output_type": "stream",
     "text": [
      "\n",
      "Model Report:\n",
      "Accuracy:0.6591\n",
      "{'learning_rate ': 0.01} -1.1404687339349726\n",
      "Best score: -1.14046873\n",
      "Best parameters set:\n",
      "\tlearning_rate : 0.01\n",
      "Wall time: 21min 21s\n"
     ]
    }
   ],
   "source": [
    "#Step 6: Reducing Learning Rate\n",
    "xgbc = xgb.XGBClassifier(objective='multi:softprob', num_class=8, \n",
    "                         #learning_rate=0.1, \n",
    "                         n_estimators = 400,\n",
    "                         max_depth=4,min_child_weight=2,gamma=0,reg_alpha=1,\n",
    "                         subsample=0.9, colsample_bytree=0.5, \n",
    "                         early_stopping_rounds=100, seed=0)\n",
    "param_grid = {'learning_rate ':[0.01]}\n",
    "%time modelfit(xgbc, param_grid, X, y, cv=4, scoring='neg_log_loss')"
   ]
  },
  {
   "cell_type": "markdown",
   "metadata": {},
   "source": [
    "final params:\n",
    "objective='multi:softprob', num_class=8, \n",
    "learning_rate=0.1, \n",
    "n_estimators = 400,\n",
    "max_depth=4,min_child_weight=2,gamma=0,reg_alpha=1,\n",
    "subsample=0.9, colsample_bytree=0.5, \n",
    "early_stopping_rounds=100, seed=0"
   ]
  },
  {
   "cell_type": "code",
   "execution_count": 33,
   "metadata": {},
   "outputs": [
    {
     "name": "stderr",
     "output_type": "stream",
     "text": [
      "C:\\Users\\dli\\AppData\\Local\\Continuum\\anaconda3\\lib\\site-packages\\ipykernel_launcher.py:3: SettingWithCopyWarning: \n",
      "A value is trying to be set on a copy of a slice from a DataFrame.\n",
      "Try using .loc[row_indexer,col_indexer] = value instead\n",
      "\n",
      "See the caveats in the documentation: http://pandas.pydata.org/pandas-docs/stable/indexing.html#indexing-view-versus-copy\n",
      "  This is separate from the ipykernel package so we can avoid doing imports until\n"
     ]
    },
    {
     "name": "stdout",
     "output_type": "stream",
     "text": [
      "\n",
      "Model Report: n_estimators--400\n",
      "Accuracy:0.6591\n",
      "Wall time: 58min 3s\n"
     ]
    },
    {
     "data": {
      "image/png": "[encoded data removed]",
      "text/plain": [
       "<Figure size 432x288 with 1 Axes>"
      ]
     },
     "metadata": {
      "needs_background": "light"
     },
     "output_type": "display_data"
    }
   ],
   "source": [
    "train_part, test_part = train_test_split(train, test_size=0.2)\n",
    "X1=train_part\n",
    "X1['Response'] -= 1\n",
    "%time modelfit0(xgbc,X1,predictors)"
   ]
  },
  {
   "cell_type": "code",
   "execution_count": 31,
   "metadata": {},
   "outputs": [
    {
     "data": {
      "text/plain": [
       "7    15594\n",
       "5     9036\n",
       "6     6426\n",
       "1     5195\n",
       "0     4994\n",
       "4     4286\n",
       "3     1154\n",
       "2      819\n",
       "Name: Response, dtype: int64"
      ]
     },
     "execution_count": 31,
     "metadata": {},
     "output_type": "execute_result"
    }
   ],
   "source": [
    "train_part['Response'].value_counts()"
   ]
  },
  {
   "cell_type": "code",
   "execution_count": null,
   "metadata": {},
   "outputs": [],
   "source": []
  }
 ],
 "metadata": {
  "kernelspec": {
   "display_name": "Python 3",
   "language": "python",
   "name": "python3"
  },
  "language_info": {
   "codemirror_mode": {
    "name": "ipython",
    "version": 3
   },
   "file_extension": ".py",
   "mimetype": "text/x-python",
   "name": "python",
   "nbconvert_exporter": "python",
   "pygments_lexer": "ipython3",
   "version": "3.6.7"
  }
 },
 "nbformat": 4,
 "nbformat_minor": 2
}
